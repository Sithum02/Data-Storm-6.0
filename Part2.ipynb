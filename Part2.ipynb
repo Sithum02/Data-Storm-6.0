{
 "cells": [
  {
   "cell_type": "code",
   "execution_count": null,
   "id": "090e7a2a",
   "metadata": {},
   "outputs": [],
   "source": [
    "import pandas as pd\n",
    "\n",
    "df = pd.read_csv('train_storming_round.csv')\n",
    "\n",
    "agent_performance = df.groupby('agent_code')['new_policy_count'].sum().reset_index()\n"
   ]
  },
  {
   "cell_type": "code",
   "execution_count": null,
   "id": "1212eb25",
   "metadata": {},
   "outputs": [
    {
     "name": "stdout",
     "output_type": "stream",
     "text": [
      "   Agent_ID  Total_Policies_Sold  Avg_Policies_Sold  Std_Policies_Sold  \\\n",
      "0  003c1999                  448              22.40           9.996842   \n",
      "1  00d5bda3                  405              20.25          13.329331   \n",
      "2  012a3553                  362              18.10          10.622221   \n",
      "3  012f0e15                  393              19.65          10.100938   \n",
      "4  0177ed5f                  425              21.25           7.383303   \n",
      "\n",
      "   Max_Policies_Sold  Total_Unique_Proposals  Total_Unique_Customers  \\\n",
      "0                 35                     379                     318   \n",
      "1                 37                     395                     307   \n",
      "2                 34                     329                     315   \n",
      "3                 37                     359                     311   \n",
      "4                 34                     331                     303   \n",
      "\n",
      "   Total_Unique_Quotations  \n",
      "0                      298  \n",
      "1                      275  \n",
      "2                      278  \n",
      "3                      276  \n",
      "4                      267  \n"
     ]
    }
   ],
   "source": [
    "agent_metrics = df.groupby('agent_code').agg({\n",
    "    'new_policy_count': ['sum', 'mean', 'std', 'max'],    # Sum, mean, std, max for policies sold\n",
    "    'unique_proposal': 'sum',                          # Sum of unique proposals\n",
    "    'unique_customers': 'sum',                          # Sum of unique customers\n",
    "    'unique_quotations': 'sum'                          # Sum of unique quotations\n",
    "}).reset_index()\n",
    "\n",
    "\n",
    "agent_metrics.columns = [\n",
    "    'Agent_ID', 'Total_Policies_Sold', 'Avg_Policies_Sold', 'Std_Policies_Sold', 'Max_Policies_Sold',\n",
    "    'Total_Unique_Proposals', 'Total_Unique_Customers', 'Total_Unique_Quotations'\n",
    "]\n",
    "\n",
    "\n",
    "print(agent_metrics.head())"
   ]
  },
  {
   "cell_type": "code",
   "execution_count": null,
   "id": "952323bd",
   "metadata": {},
   "outputs": [
    {
     "name": "stdout",
     "output_type": "stream",
     "text": [
      "Avg_Policies_Sold           0\n",
      "Std_Policies_Sold          13\n",
      "Max_Policies_Sold           0\n",
      "Total_Unique_Proposals      0\n",
      "Total_Unique_Customers      0\n",
      "Total_Unique_Quotations     0\n",
      "dtype: int64\n"
     ]
    }
   ],
   "source": [
    "\n"
   ]
  },
  {
   "cell_type": "code",
   "execution_count": null,
   "id": "d089094f",
   "metadata": {},
   "outputs": [
    {
     "name": "stdout",
     "output_type": "stream",
     "text": [
      "     Agent_ID  Cluster\n",
      "0    003c1999        0\n",
      "1    00d5bda3        0\n",
      "2    012a3553        0\n",
      "3    012f0e15        0\n",
      "4    0177ed5f        0\n",
      "..        ...      ...\n",
      "900  ff8edcc9        0\n",
      "901  ff955d18        1\n",
      "902  ffca3177        0\n",
      "903  ffe6c9e9        0\n",
      "904  fffb525d        0\n",
      "\n",
      "[905 rows x 2 columns]\n"
     ]
    }
   ],
   "source": [
    "from sklearn.cluster import KMeans\n",
    "import pandas as pd\n",
    "\n",
    "\n",
    "\n",
    "\n",
    "X = agent_metrics[['Avg_Policies_Sold', 'Std_Policies_Sold', 'Max_Policies_Sold', \n",
    "                   'Total_Unique_Proposals', 'Total_Unique_Customers', 'Total_Unique_Quotations']]\n",
    "\n",
    "X = X.fillna(0)\n",
    "# Applying KMeans clustering (assuming 3 clusters: High, Medium, Low)\n",
    "kmeans = KMeans(n_clusters=3, random_state=42)\n",
    "agent_metrics['Cluster'] = kmeans.fit_predict(X)\n",
    "\n",
    "\n",
    "print(agent_metrics[['Agent_ID', 'Cluster']])\n"
   ]
  },
  {
   "cell_type": "code",
   "execution_count": 15,
   "id": "67061dae",
   "metadata": {},
   "outputs": [
    {
     "name": "stdout",
     "output_type": "stream",
     "text": [
      "   Agent_ID Performance_Level\n",
      "0  003c1999            Medium\n",
      "1  00d5bda3            Medium\n",
      "2  012a3553            Medium\n",
      "3  012f0e15            Medium\n",
      "4  0177ed5f            Medium\n"
     ]
    }
   ],
   "source": [
    "import numpy as np\n",
    "\n",
    "# Attach cluster centers and sort by Avg Policies\n",
    "centers = kmeans.cluster_centers_\n",
    "sorted_indices = np.argsort(centers[:, 0])  # Assuming Avg_Policies_Sold is the first feature\n",
    "\n",
    "# Map cluster index to labels\n",
    "cluster_labels = {sorted_indices[0]: 'Low', sorted_indices[1]: 'Medium', sorted_indices[2]: 'High'}\n",
    "agent_metrics['Performance_Level'] = agent_metrics['Cluster'].map(cluster_labels)\n",
    "\n",
    "# Final labeled data\n",
    "print(agent_metrics[['Agent_ID', 'Performance_Level']].head())\n",
    "\n",
    "agent_metrics.to_csv(\"clustered.csv\",index=False)\n"
   ]
  },
  {
   "cell_type": "code",
   "execution_count": 16,
   "id": "74f6f479",
   "metadata": {},
   "outputs": [],
   "source": [
    "agent_metrics.to_csv(\"agent_metrics.csv\",index=False)"
   ]
  }
 ],
 "metadata": {
  "kernelspec": {
   "display_name": "tfkernel",
   "language": "python",
   "name": "tfkernel"
  },
  "language_info": {
   "codemirror_mode": {
    "name": "ipython",
    "version": 3
   },
   "file_extension": ".py",
   "mimetype": "text/x-python",
   "name": "python",
   "nbconvert_exporter": "python",
   "pygments_lexer": "ipython3",
   "version": "3.12.1"
  }
 },
 "nbformat": 4,
 "nbformat_minor": 5
}
